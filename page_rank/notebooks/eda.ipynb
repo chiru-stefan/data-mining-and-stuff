{
 "cells": [
  {
   "cell_type": "code",
   "execution_count": 4,
   "metadata": {
    "collapsed": true,
    "pycharm": {
     "name": "#%%\n"
    }
   },
   "outputs": [],
   "source": [
    "import pandas as pd\n",
    "import numpy as np\n",
    "import warnings\n",
    "warnings.filterwarnings(\"ignore\")"
   ]
  },
  {
   "cell_type": "code",
   "execution_count": 5,
   "outputs": [],
   "source": [
    "first_line = open('../data/hollins.dat', 'r').readline().replace('\\n', '')\n",
    "nodes_count = int(first_line.split(' ')[0])\n",
    "edges_count = int(first_line.split(' ')[1])\n",
    "\n",
    "df = pd.read_csv('../data/hollins.dat', sep='\\s+', skiprows=1, header=None, names=['NodeID', 'NodeURL'])\n",
    "\n",
    "df_id_url = df.loc[df.NodeURL.str.contains('http')]\n",
    "df_id_out_id = df.loc[~df.NodeURL.str.contains('http')]\n",
    "df_id_out_id.rename(columns={'NodeURL': 'OutNodeID'}, inplace=True)\n",
    "\n",
    "df_id_out_id['OutNodeID'] = df_id_out_id['OutNodeID'].astype(int)"
   ],
   "metadata": {
    "collapsed": false,
    "pycharm": {
     "name": "#%%\n"
    }
   }
  },
  {
   "cell_type": "code",
   "execution_count": 7,
   "outputs": [],
   "source": [
    "# import pyspark\n",
    "# from pyspark.sql import SparkSession\n",
    "\n",
    "# session = SparkSession.builder.appName('hollins').getOrCreate()\n",
    "# df_id_out_id_spark = session.createDataFrame(df_id_out_id)"
   ],
   "metadata": {
    "collapsed": false,
    "pycharm": {
     "name": "#%%\n"
    }
   }
  },
  {
   "cell_type": "code",
   "execution_count": 8,
   "outputs": [],
   "source": [
    "# df_id_out_id.sort_values(by=['NodeID']).to_csv('../data/hollins_id_out_id.csv', index=False, header=False)"
   ],
   "metadata": {
    "collapsed": false,
    "pycharm": {
     "name": "#%%\n"
    }
   }
  },
  {
   "cell_type": "code",
   "execution_count": 23,
   "outputs": [],
   "source": [
    "df_id_out_id_ranks = df_id_out_id.copy()\n",
    "\n",
    "# sort by node id\n",
    "df_id_out_id_ranks = df_id_out_id_ranks.sort_values(by=['NodeID'])\n",
    "\n",
    "# damping factor\n",
    "d = 0.25\n",
    "\n",
    "# initialize ranks\n",
    "pr = [1/nodes_count for i in range(nodes_count+1)]\n",
    "pr_2 = pr.copy()\n",
    "\n",
    "# do iterations\n",
    "for _ in range(1):\n",
    "    for i in range(1, nodes_count):\n",
    "        out_nodes = df_id_out_id_ranks.loc[df_id_out_id_ranks.NodeID == i, 'OutNodeID']\n",
    "\n",
    "        # go through all out nodes\n",
    "        for j in out_nodes:\n",
    "            pr_2[j] += (1-d)/nodes_count + d * (sum([pr[out_node] for out_node in out_nodes]) / out_nodes.count())\n",
    "\n",
    "    pr = pr_2.copy()"
   ],
   "metadata": {
    "collapsed": false,
    "pycharm": {
     "name": "#%%\n"
    }
   }
  },
  {
   "cell_type": "code",
   "execution_count": 26,
   "outputs": [
    {
     "name": "stdout",
     "output_type": "stream",
     "text": [
      "First 20 liks pages:\n",
      "[0.00016633 0.00016633 0.13805722 0.00282768 0.00033267 0.00033267\n",
      " 0.00033267 0.02644711 0.00133067 0.000499   0.00282768 0.00033267\n",
      " 0.00083167 0.000499   0.00149701 0.000998   0.00166334 0.000499\n",
      " 0.00365935 0.02611444]\n"
     ]
    }
   ],
   "source": [
    "pr_copy = np.array(pr)\n",
    "# fill nan values with 0\n",
    "pr_copy[np.isnan(pr_copy)] = 0\n",
    "print('First 20 liks pages:')\n",
    "print(pr_copy[0:20])"
   ],
   "metadata": {
    "collapsed": false,
    "pycharm": {
     "name": "#%%\n"
    }
   }
  },
  {
   "cell_type": "code",
   "execution_count": 38,
   "outputs": [
    {
     "name": "stdout",
     "output_type": "stream",
     "text": [
      "Top 5 most likely links:\n",
      "['http://www.hollins.edu/'] 38\n",
      "['http://www.hollins.edu/admissions/visit/visit.htm'] 430\n",
      "['http://www.hollins.edu/about/about_tour.htm'] 71\n",
      "['http://www.hollins.edu/admissions/info-request/info-request.cfm'] 57\n",
      "['http://www.hollins.edu/htdig/index.html'] 68\n"
     ]
    }
   ],
   "source": [
    "print('Top 5 most likely links:')\n",
    "sorted_pr = np.argsort(pr_copy)[::-1]\n",
    "print('\\n'.join([f'{df_id_url.loc[df_id_url.NodeID == i].NodeURL.values} {sorted_pr[i]}' for i in sorted_pr[0:5]]))"
   ],
   "metadata": {
    "collapsed": false,
    "pycharm": {
     "name": "#%%\n"
    }
   }
  },
  {
   "cell_type": "code",
   "execution_count": 115,
   "outputs": [],
   "source": [
    "# compare outputs\n",
    "df_outputs_gh = pd.read_csv('../data/output.csv', header=None, names=['NodeID', 'Rank'])\n",
    "df_outputs_gh.NodeID += 1"
   ],
   "metadata": {
    "collapsed": false,
    "pycharm": {
     "name": "#%%\n"
    }
   }
  },
  {
   "cell_type": "code",
   "execution_count": 116,
   "outputs": [
    {
     "data": {
      "text/plain": "      NodeID   Rank\n0          1  0.000\n1          2  0.021\n2          3  0.000\n3          4  0.000\n4          5  0.000\n...      ...    ...\n6007    6008  0.000\n6008    6009  0.000\n6009    6010  0.000\n6010    6011  0.000\n6011    6012  0.000\n\n[6012 rows x 2 columns]",
      "text/html": "<div>\n<style scoped>\n    .dataframe tbody tr th:only-of-type {\n        vertical-align: middle;\n    }\n\n    .dataframe tbody tr th {\n        vertical-align: top;\n    }\n\n    .dataframe thead th {\n        text-align: right;\n    }\n</style>\n<table border=\"1\" class=\"dataframe\">\n  <thead>\n    <tr style=\"text-align: right;\">\n      <th></th>\n      <th>NodeID</th>\n      <th>Rank</th>\n    </tr>\n  </thead>\n  <tbody>\n    <tr>\n      <th>0</th>\n      <td>1</td>\n      <td>0.000</td>\n    </tr>\n    <tr>\n      <th>1</th>\n      <td>2</td>\n      <td>0.021</td>\n    </tr>\n    <tr>\n      <th>2</th>\n      <td>3</td>\n      <td>0.000</td>\n    </tr>\n    <tr>\n      <th>3</th>\n      <td>4</td>\n      <td>0.000</td>\n    </tr>\n    <tr>\n      <th>4</th>\n      <td>5</td>\n      <td>0.000</td>\n    </tr>\n    <tr>\n      <th>...</th>\n      <td>...</td>\n      <td>...</td>\n    </tr>\n    <tr>\n      <th>6007</th>\n      <td>6008</td>\n      <td>0.000</td>\n    </tr>\n    <tr>\n      <th>6008</th>\n      <td>6009</td>\n      <td>0.000</td>\n    </tr>\n    <tr>\n      <th>6009</th>\n      <td>6010</td>\n      <td>0.000</td>\n    </tr>\n    <tr>\n      <th>6010</th>\n      <td>6011</td>\n      <td>0.000</td>\n    </tr>\n    <tr>\n      <th>6011</th>\n      <td>6012</td>\n      <td>0.000</td>\n    </tr>\n  </tbody>\n</table>\n<p>6012 rows × 2 columns</p>\n</div>"
     },
     "execution_count": 116,
     "metadata": {},
     "output_type": "execute_result"
    }
   ],
   "source": [
    "df_outputs_gh"
   ],
   "metadata": {
    "collapsed": false,
    "pycharm": {
     "name": "#%%\n"
    }
   }
  },
  {
   "cell_type": "code",
   "execution_count": 112,
   "outputs": [
    {
     "data": {
      "text/plain": "      NodeID      Rank\n0          1  0.000058\n1          2  0.020210\n24         3  0.000113\n23         4  0.000060\n21         5  0.000060\n...      ...       ...\n6006    6008  0.000069\n6007    6009  0.000069\n6008    6010  0.000069\n6010    6011  0.000069\n6011    6012  0.000180\n\n[6012 rows x 2 columns]",
      "text/html": "<div>\n<style scoped>\n    .dataframe tbody tr th:only-of-type {\n        vertical-align: middle;\n    }\n\n    .dataframe tbody tr th {\n        vertical-align: top;\n    }\n\n    .dataframe thead th {\n        text-align: right;\n    }\n</style>\n<table border=\"1\" class=\"dataframe\">\n  <thead>\n    <tr style=\"text-align: right;\">\n      <th></th>\n      <th>NodeID</th>\n      <th>Rank</th>\n    </tr>\n  </thead>\n  <tbody>\n    <tr>\n      <th>0</th>\n      <td>1</td>\n      <td>0.000058</td>\n    </tr>\n    <tr>\n      <th>1</th>\n      <td>2</td>\n      <td>0.020210</td>\n    </tr>\n    <tr>\n      <th>24</th>\n      <td>3</td>\n      <td>0.000113</td>\n    </tr>\n    <tr>\n      <th>23</th>\n      <td>4</td>\n      <td>0.000060</td>\n    </tr>\n    <tr>\n      <th>21</th>\n      <td>5</td>\n      <td>0.000060</td>\n    </tr>\n    <tr>\n      <th>...</th>\n      <td>...</td>\n      <td>...</td>\n    </tr>\n    <tr>\n      <th>6006</th>\n      <td>6008</td>\n      <td>0.000069</td>\n    </tr>\n    <tr>\n      <th>6007</th>\n      <td>6009</td>\n      <td>0.000069</td>\n    </tr>\n    <tr>\n      <th>6008</th>\n      <td>6010</td>\n      <td>0.000069</td>\n    </tr>\n    <tr>\n      <th>6010</th>\n      <td>6011</td>\n      <td>0.000069</td>\n    </tr>\n    <tr>\n      <th>6011</th>\n      <td>6012</td>\n      <td>0.000180</td>\n    </tr>\n  </tbody>\n</table>\n<p>6012 rows × 2 columns</p>\n</div>"
     },
     "execution_count": 112,
     "metadata": {},
     "output_type": "execute_result"
    }
   ],
   "source": [
    "df_outputs_networkx = pd.read_csv('../data/result_hollins_id_out_id.csv', header=None, names=['NodeID', 'Rank'])\n",
    "df_outputs_networkx.sort_values(by=['NodeID'], ascending=True, inplace=True)\n",
    "df_outputs_networkx"
   ],
   "metadata": {
    "collapsed": false,
    "pycharm": {
     "name": "#%%\n"
    }
   }
  }
 ],
 "metadata": {
  "kernelspec": {
   "display_name": "Python 3",
   "language": "python",
   "name": "python3"
  },
  "language_info": {
   "codemirror_mode": {
    "name": "ipython",
    "version": 2
   },
   "file_extension": ".py",
   "mimetype": "text/x-python",
   "name": "python",
   "nbconvert_exporter": "python",
   "pygments_lexer": "ipython2",
   "version": "2.7.6"
  }
 },
 "nbformat": 4,
 "nbformat_minor": 0
}