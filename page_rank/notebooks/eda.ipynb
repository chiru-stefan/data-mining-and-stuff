{
 "cells": [
  {
   "cell_type": "code",
   "execution_count": 1,
   "metadata": {
    "collapsed": true,
    "pycharm": {
     "name": "#%%\n"
    }
   },
   "outputs": [],
   "source": [
    "import pandas as pd"
   ]
  },
  {
   "cell_type": "code",
   "execution_count": 70,
   "outputs": [
    {
     "name": "stderr",
     "output_type": "stream",
     "text": [
      "/tmp/ipykernel_23758/4149064277.py:9: SettingWithCopyWarning: \n",
      "A value is trying to be set on a copy of a slice from a DataFrame\n",
      "\n",
      "See the caveats in the documentation: https://pandas.pydata.org/pandas-docs/stable/user_guide/indexing.html#returning-a-view-versus-a-copy\n",
      "  df_id_out_id.rename(columns={'NodeURL': 'OutNodeID'}, inplace=True)\n",
      "/tmp/ipykernel_23758/4149064277.py:11: SettingWithCopyWarning: \n",
      "A value is trying to be set on a copy of a slice from a DataFrame.\n",
      "Try using .loc[row_indexer,col_indexer] = value instead\n",
      "\n",
      "See the caveats in the documentation: https://pandas.pydata.org/pandas-docs/stable/user_guide/indexing.html#returning-a-view-versus-a-copy\n",
      "  df_id_out_id['OutNodeID'] = df_id_out_id['OutNodeID'].astype(int)\n"
     ]
    }
   ],
   "source": [
    "first_line = open('../data/hollins.dat', 'r').readline().replace('\\n', '')\n",
    "nodes_count = int(first_line.split(' ')[0])\n",
    "edges_count = int(first_line.split(' ')[1])\n",
    "\n",
    "df = pd.read_csv('../data/hollins.dat', sep='\\s+', skiprows=1, header=None, names=['NodeID', 'NodeURL'])\n",
    "\n",
    "df_id_url = df.loc[df.NodeURL.str.contains('http')]\n",
    "df_id_out_id = df.loc[~df.NodeURL.str.contains('http')]\n",
    "df_id_out_id.rename(columns={'NodeURL': 'OutNodeID'}, inplace=True)\n",
    "\n",
    "df_id_out_id['OutNodeID'] = df_id_out_id['OutNodeID'].astype(int)\n"
   ],
   "metadata": {
    "collapsed": false,
    "pycharm": {
     "name": "#%%\n"
    }
   }
  },
  {
   "cell_type": "code",
   "execution_count": 11,
   "outputs": [
    {
     "name": "stderr",
     "output_type": "stream",
     "text": [
      "22/05/21 20:41:19 WARN Utils: Your hostname, 192-168-0-145 resolves to a loopback address: 127.0.1.1; using 192.168.0.145 instead (on interface enp6s0)\n",
      "22/05/21 20:41:19 WARN Utils: Set SPARK_LOCAL_IP if you need to bind to another address\n",
      "WARNING: An illegal reflective access operation has occurred\n",
      "WARNING: Illegal reflective access by org.apache.spark.unsafe.Platform (file:/home/fefy/anaconda3/envs/env_base/lib/python3.9/site-packages/pyspark/jars/spark-unsafe_2.12-3.2.1.jar) to constructor java.nio.DirectByteBuffer(long,int)\n",
      "WARNING: Please consider reporting this to the maintainers of org.apache.spark.unsafe.Platform\n",
      "WARNING: Use --illegal-access=warn to enable warnings of further illegal reflective access operations\n",
      "WARNING: All illegal access operations will be denied in a future release\n",
      "Using Spark's default log4j profile: org/apache/spark/log4j-defaults.properties\n",
      "Setting default log level to \"WARN\".\n",
      "To adjust logging level use sc.setLogLevel(newLevel). For SparkR, use setLogLevel(newLevel).\n",
      "22/05/21 20:41:19 WARN NativeCodeLoader: Unable to load native-hadoop library for your platform... using builtin-java classes where applicable\n"
     ]
    }
   ],
   "source": [
    "import pyspark\n",
    "from pyspark.sql import SparkSession\n",
    "\n",
    "session = SparkSession.builder.appName('hollins').getOrCreate()"
   ],
   "metadata": {
    "collapsed": false,
    "pycharm": {
     "name": "#%%\n"
    }
   }
  },
  {
   "cell_type": "code",
   "execution_count": 85,
   "outputs": [],
   "source": [
    "df_id_out_id.sort_values(by=['NodeID']).to_csv('../data/hollins_id_out_id.csv', index=False, header=False)"
   ],
   "metadata": {
    "collapsed": false,
    "pycharm": {
     "name": "#%%\n"
    }
   }
  },
  {
   "cell_type": "code",
   "execution_count": 133,
   "outputs": [
    {
     "name": "stderr",
     "output_type": "stream",
     "text": [
      "/tmp/ipykernel_23758/1444487391.py:20: RuntimeWarning: invalid value encountered in long_scalars\n",
      "  pr[i] = (1-d)/nodes_count + d * (sum([pr[out_node] for out_node in out_nodes]) / out_nodes.count())\n"
     ]
    }
   ],
   "source": [
    "# df_id_out_id_spark = session.createDataFrame(df_id_out_id)\n",
    "\n",
    "df_id_out_id_ranks = df_id_out_id.copy()\n",
    "\n",
    "# sort by node id\n",
    "df_id_out_id_ranks = df_id_out_id_ranks.sort_values(by=['NodeID'])\n",
    "\n",
    "# damping factor\n",
    "d = 0.85\n",
    "\n",
    "# initialize ranks\n",
    "pr = [1/nodes_count for i in range(nodes_count+1)]\n",
    "pr_2 = pr.copy()\n",
    "\n",
    "# do iterations\n",
    "for _ in range(5):\n",
    "    for i in range(1, nodes_count):\n",
    "        out_nodes = df_id_out_id_ranks.loc[df_id_out_id_ranks.NodeID == i, 'OutNodeID']\n",
    "\n",
    "        pr[i] = (1-d)/nodes_count + d * (sum([pr[out_node] for out_node in out_nodes]) / out_nodes.count())\n",
    "\n",
    "    pr_2 += pr\n",
    "    pr = pr_2.copy()"
   ],
   "metadata": {
    "collapsed": false,
    "pycharm": {
     "name": "#%%\n"
    }
   }
  },
  {
   "cell_type": "code",
   "execution_count": 138,
   "outputs": [
    {
     "name": "stdout",
     "output_type": "stream",
     "text": [
      "[0.0166334 0.0166334 0.0166334 0.0166334 0.0166334 0.0166334 0.0166334\n",
      " 0.0166334 0.0166334 0.0166334 0.0166334 0.0166334 0.0166334 0.0166334\n",
      " 0.0166334 0.0166334 0.0166334 0.0166334 0.0166334 0.0166334 0.0166334\n",
      " 0.0166334 0.0166334 0.0166334 0.0166334 0.0166334 0.0166334 0.0166334\n",
      " 0.0166334 0.0166334 0.0166334 0.0166334 0.0166334 0.0166334 0.0166334\n",
      " 0.0166334 0.0166334 0.0166334 0.0166334 0.0166334 0.0166334 0.0166334\n",
      " 0.0166334 0.0166334 0.0166334 0.0166334 0.0166334 0.0166334 0.0166334\n",
      " 0.0166334 0.0166334 0.0166334 0.0166334 0.0166334 0.0166334 0.0166334\n",
      " 0.0166334 0.0166334 0.0166334 0.0166334 0.0166334 0.0166334 0.0166334\n",
      " 0.0166334 0.0166334 0.0166334 0.0166334 0.0166334 0.0166334 0.0166334\n",
      " 0.0166334 0.0166334 0.0166334 0.0166334 0.0166334 0.0166334 0.0166334\n",
      " 0.0166334 0.0166334 0.0166334 0.0166334 0.0166334 0.0166334 0.0166334\n",
      " 0.0166334 0.0166334 0.0166334 0.0166334 0.0166334 0.0166334 0.0166334\n",
      " 0.0166334 0.0166334 0.0166334 0.0166334 0.0166334 0.0166334 0.0166334\n",
      " 0.0166334 0.0166334]\n"
     ]
    }
   ],
   "source": [
    "import numpy as np\n",
    "pr_copy = np.array(pr)\n",
    "pr_copy[np.isnan(pr_copy)] = 0\n",
    "print(pr_copy[100:200]*100)"
   ],
   "metadata": {
    "collapsed": false,
    "pycharm": {
     "name": "#%%\n"
    }
   }
  },
  {
   "cell_type": "code",
   "execution_count": 115,
   "outputs": [],
   "source": [
    "# compare outputs\n",
    "df_outputs_gh = pd.read_csv('../data/output.csv', header=None, names=['NodeID', 'Rank'])\n",
    "df_outputs_gh.NodeID += 1"
   ],
   "metadata": {
    "collapsed": false,
    "pycharm": {
     "name": "#%%\n"
    }
   }
  },
  {
   "cell_type": "code",
   "execution_count": 116,
   "outputs": [
    {
     "data": {
      "text/plain": "      NodeID   Rank\n0          1  0.000\n1          2  0.021\n2          3  0.000\n3          4  0.000\n4          5  0.000\n...      ...    ...\n6007    6008  0.000\n6008    6009  0.000\n6009    6010  0.000\n6010    6011  0.000\n6011    6012  0.000\n\n[6012 rows x 2 columns]",
      "text/html": "<div>\n<style scoped>\n    .dataframe tbody tr th:only-of-type {\n        vertical-align: middle;\n    }\n\n    .dataframe tbody tr th {\n        vertical-align: top;\n    }\n\n    .dataframe thead th {\n        text-align: right;\n    }\n</style>\n<table border=\"1\" class=\"dataframe\">\n  <thead>\n    <tr style=\"text-align: right;\">\n      <th></th>\n      <th>NodeID</th>\n      <th>Rank</th>\n    </tr>\n  </thead>\n  <tbody>\n    <tr>\n      <th>0</th>\n      <td>1</td>\n      <td>0.000</td>\n    </tr>\n    <tr>\n      <th>1</th>\n      <td>2</td>\n      <td>0.021</td>\n    </tr>\n    <tr>\n      <th>2</th>\n      <td>3</td>\n      <td>0.000</td>\n    </tr>\n    <tr>\n      <th>3</th>\n      <td>4</td>\n      <td>0.000</td>\n    </tr>\n    <tr>\n      <th>4</th>\n      <td>5</td>\n      <td>0.000</td>\n    </tr>\n    <tr>\n      <th>...</th>\n      <td>...</td>\n      <td>...</td>\n    </tr>\n    <tr>\n      <th>6007</th>\n      <td>6008</td>\n      <td>0.000</td>\n    </tr>\n    <tr>\n      <th>6008</th>\n      <td>6009</td>\n      <td>0.000</td>\n    </tr>\n    <tr>\n      <th>6009</th>\n      <td>6010</td>\n      <td>0.000</td>\n    </tr>\n    <tr>\n      <th>6010</th>\n      <td>6011</td>\n      <td>0.000</td>\n    </tr>\n    <tr>\n      <th>6011</th>\n      <td>6012</td>\n      <td>0.000</td>\n    </tr>\n  </tbody>\n</table>\n<p>6012 rows × 2 columns</p>\n</div>"
     },
     "execution_count": 116,
     "metadata": {},
     "output_type": "execute_result"
    }
   ],
   "source": [
    "df_outputs_gh"
   ],
   "metadata": {
    "collapsed": false,
    "pycharm": {
     "name": "#%%\n"
    }
   }
  },
  {
   "cell_type": "code",
   "execution_count": 112,
   "outputs": [
    {
     "data": {
      "text/plain": "      NodeID      Rank\n0          1  0.000058\n1          2  0.020210\n24         3  0.000113\n23         4  0.000060\n21         5  0.000060\n...      ...       ...\n6006    6008  0.000069\n6007    6009  0.000069\n6008    6010  0.000069\n6010    6011  0.000069\n6011    6012  0.000180\n\n[6012 rows x 2 columns]",
      "text/html": "<div>\n<style scoped>\n    .dataframe tbody tr th:only-of-type {\n        vertical-align: middle;\n    }\n\n    .dataframe tbody tr th {\n        vertical-align: top;\n    }\n\n    .dataframe thead th {\n        text-align: right;\n    }\n</style>\n<table border=\"1\" class=\"dataframe\">\n  <thead>\n    <tr style=\"text-align: right;\">\n      <th></th>\n      <th>NodeID</th>\n      <th>Rank</th>\n    </tr>\n  </thead>\n  <tbody>\n    <tr>\n      <th>0</th>\n      <td>1</td>\n      <td>0.000058</td>\n    </tr>\n    <tr>\n      <th>1</th>\n      <td>2</td>\n      <td>0.020210</td>\n    </tr>\n    <tr>\n      <th>24</th>\n      <td>3</td>\n      <td>0.000113</td>\n    </tr>\n    <tr>\n      <th>23</th>\n      <td>4</td>\n      <td>0.000060</td>\n    </tr>\n    <tr>\n      <th>21</th>\n      <td>5</td>\n      <td>0.000060</td>\n    </tr>\n    <tr>\n      <th>...</th>\n      <td>...</td>\n      <td>...</td>\n    </tr>\n    <tr>\n      <th>6006</th>\n      <td>6008</td>\n      <td>0.000069</td>\n    </tr>\n    <tr>\n      <th>6007</th>\n      <td>6009</td>\n      <td>0.000069</td>\n    </tr>\n    <tr>\n      <th>6008</th>\n      <td>6010</td>\n      <td>0.000069</td>\n    </tr>\n    <tr>\n      <th>6010</th>\n      <td>6011</td>\n      <td>0.000069</td>\n    </tr>\n    <tr>\n      <th>6011</th>\n      <td>6012</td>\n      <td>0.000180</td>\n    </tr>\n  </tbody>\n</table>\n<p>6012 rows × 2 columns</p>\n</div>"
     },
     "execution_count": 112,
     "metadata": {},
     "output_type": "execute_result"
    }
   ],
   "source": [
    "df_outputs_networkx = pd.read_csv('../data/result_hollins_id_out_id.csv', header=None, names=['NodeID', 'Rank'])\n",
    "df_outputs_networkx.sort_values(by=['NodeID'], ascending=True, inplace=True)\n",
    "df_outputs_networkx"
   ],
   "metadata": {
    "collapsed": false,
    "pycharm": {
     "name": "#%%\n"
    }
   }
  }
 ],
 "metadata": {
  "kernelspec": {
   "display_name": "Python 3",
   "language": "python",
   "name": "python3"
  },
  "language_info": {
   "codemirror_mode": {
    "name": "ipython",
    "version": 2
   },
   "file_extension": ".py",
   "mimetype": "text/x-python",
   "name": "python",
   "nbconvert_exporter": "python",
   "pygments_lexer": "ipython2",
   "version": "2.7.6"
  }
 },
 "nbformat": 4,
 "nbformat_minor": 0
}